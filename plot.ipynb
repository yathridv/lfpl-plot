{
 "cells": [
  {
   "attachments": {},
   "cell_type": "markdown",
   "metadata": {},
   "source": [
    "# Louisville Free Public Library\n",
    "\n",
    "Visualizations based on the analysis of the Young Adult (YA) genre in the Louisville Free Public Library collection."
   ]
  },
  {
   "cell_type": "code",
   "execution_count": 2,
   "metadata": {},
   "outputs": [
    {
     "data": {
      "text/html": [
       "<div>\n",
       "<style scoped>\n",
       "    .dataframe tbody tr th:only-of-type {\n",
       "        vertical-align: middle;\n",
       "    }\n",
       "\n",
       "    .dataframe tbody tr th {\n",
       "        vertical-align: top;\n",
       "    }\n",
       "\n",
       "    .dataframe thead th {\n",
       "        text-align: right;\n",
       "    }\n",
       "</style>\n",
       "<table border=\"1\" class=\"dataframe\">\n",
       "  <thead>\n",
       "    <tr style=\"text-align: right;\">\n",
       "      <th></th>\n",
       "      <th>BibNum</th>\n",
       "      <th>Title</th>\n",
       "      <th>Author</th>\n",
       "      <th>PublicationYear</th>\n",
       "      <th>ItemType</th>\n",
       "      <th>ItemCollection</th>\n",
       "      <th>ItemLocation</th>\n",
       "      <th>ItemPrice</th>\n",
       "      <th>Genre</th>\n",
       "      <th>Audience</th>\n",
       "    </tr>\n",
       "  </thead>\n",
       "  <tbody>\n",
       "    <tr>\n",
       "      <th>0</th>\n",
       "      <td>707409</td>\n",
       "      <td>Jeff Immelt and the new GE way : innovation, t...</td>\n",
       "      <td>Magee, David, 1965-</td>\n",
       "      <td>2009</td>\n",
       "      <td>Book</td>\n",
       "      <td>Adult Non-Fiction</td>\n",
       "      <td>Main</td>\n",
       "      <td>25.95</td>\n",
       "      <td>Non-Fiction</td>\n",
       "      <td>Adult</td>\n",
       "    </tr>\n",
       "    <tr>\n",
       "      <th>1</th>\n",
       "      <td>707411</td>\n",
       "      <td>Robin rescues dinner : 52 weeks of quick-fix m...</td>\n",
       "      <td>Miller, Robin, 1964-</td>\n",
       "      <td>2009</td>\n",
       "      <td>Book</td>\n",
       "      <td>Adult Non-Fiction</td>\n",
       "      <td>Southwest</td>\n",
       "      <td>19.99</td>\n",
       "      <td>Non-Fiction</td>\n",
       "      <td>Adult</td>\n",
       "    </tr>\n",
       "    <tr>\n",
       "      <th>2</th>\n",
       "      <td>707411</td>\n",
       "      <td>Robin rescues dinner : 52 weeks of quick-fix m...</td>\n",
       "      <td>Miller, Robin, 1964-</td>\n",
       "      <td>2009</td>\n",
       "      <td>Book</td>\n",
       "      <td>Adult Non-Fiction</td>\n",
       "      <td>Southwest</td>\n",
       "      <td>19.99</td>\n",
       "      <td>Non-Fiction</td>\n",
       "      <td>Adult</td>\n",
       "    </tr>\n",
       "    <tr>\n",
       "      <th>3</th>\n",
       "      <td>707411</td>\n",
       "      <td>Robin rescues dinner : 52 weeks of quick-fix m...</td>\n",
       "      <td>Miller, Robin, 1964-</td>\n",
       "      <td>2009</td>\n",
       "      <td>Book</td>\n",
       "      <td>Adult Non-Fiction</td>\n",
       "      <td>Remote Shelving - Main</td>\n",
       "      <td>19.99</td>\n",
       "      <td>Non-Fiction</td>\n",
       "      <td>Adult</td>\n",
       "    </tr>\n",
       "    <tr>\n",
       "      <th>4</th>\n",
       "      <td>707411</td>\n",
       "      <td>Robin rescues dinner : 52 weeks of quick-fix m...</td>\n",
       "      <td>Miller, Robin, 1964-</td>\n",
       "      <td>2009</td>\n",
       "      <td>Book</td>\n",
       "      <td>Adult Non-Fiction</td>\n",
       "      <td>Remote Shelving - Main</td>\n",
       "      <td>19.99</td>\n",
       "      <td>Non-Fiction</td>\n",
       "      <td>Adult</td>\n",
       "    </tr>\n",
       "  </tbody>\n",
       "</table>\n",
       "</div>"
      ],
      "text/plain": [
       "   BibNum                                              Title  \\\n",
       "0  707409  Jeff Immelt and the new GE way : innovation, t...   \n",
       "1  707411  Robin rescues dinner : 52 weeks of quick-fix m...   \n",
       "2  707411  Robin rescues dinner : 52 weeks of quick-fix m...   \n",
       "3  707411  Robin rescues dinner : 52 weeks of quick-fix m...   \n",
       "4  707411  Robin rescues dinner : 52 weeks of quick-fix m...   \n",
       "\n",
       "                 Author  PublicationYear ItemType     ItemCollection  \\\n",
       "0   Magee, David, 1965-             2009     Book  Adult Non-Fiction   \n",
       "1  Miller, Robin, 1964-             2009     Book  Adult Non-Fiction   \n",
       "2  Miller, Robin, 1964-             2009     Book  Adult Non-Fiction   \n",
       "3  Miller, Robin, 1964-             2009     Book  Adult Non-Fiction   \n",
       "4  Miller, Robin, 1964-             2009     Book  Adult Non-Fiction   \n",
       "\n",
       "             ItemLocation  ItemPrice        Genre Audience  \n",
       "0                    Main      25.95  Non-Fiction    Adult  \n",
       "1               Southwest      19.99  Non-Fiction    Adult  \n",
       "2               Southwest      19.99  Non-Fiction    Adult  \n",
       "3  Remote Shelving - Main      19.99  Non-Fiction    Adult  \n",
       "4  Remote Shelving - Main      19.99  Non-Fiction    Adult  "
      ]
     },
     "execution_count": 2,
     "metadata": {},
     "output_type": "execute_result"
    }
   ],
   "source": [
    "import pandas as pd\n",
    "import numpy as np\n",
    "from pathlib import Path\n",
    "\n",
    "\n",
    "# load the clean books data into a dataframe and show the first few rows\n",
    "data_path = Path('results/books_clean.csv.gz')\n",
    "books_df = pd.read_csv(data_path)\n",
    "books_df.head()"
   ]
  },
  {
   "attachments": {},
   "cell_type": "markdown",
   "metadata": {},
   "source": [
    "<p>A bar plot is a plot that presents categorical data with rectangular bars with lengths proportional to the values that they represent. A bar plot shows comparisons among discrete categories. </p>\n",
    "\n",
    "<p>Add a bar plot that compares the cost among the all audiences (Adult, YA, and Children) for fiction genre specifically<p>"
   ]
  },
  {
   "cell_type": "code",
   "execution_count": 3,
   "metadata": {},
   "outputs": [
    {
     "data": {
      "text/plain": [
       "687553.5900000001"
      ]
     },
     "execution_count": 3,
     "metadata": {},
     "output_type": "execute_result"
    }
   ],
   "source": [
    "# Data masks\n",
    "adult_fiction_mask = (books_df['Audience'] == 'Adult') & (books_df['Genre'] == 'Fiction')\n",
    "ya_mask = (books_df['Audience'] == 'Teen') & (books_df['Genre'] == 'Fiction')\n",
    "children_mask = (books_df['Audience'] == 'Children') & (books_df['Genre'] == 'Fiction')\n",
    "\n",
    "# Totals by groups\n",
    "adult_fiction = books_df[adult_fiction_mask]['ItemPrice'].sum()\n",
    "adult_fiction\n",
    "ya_fiction =  books_df[ya_mask]['ItemPrice'].sum()\n",
    "ya_fiction\n",
    "children_fiction =  books_df[children_mask]['ItemPrice'].sum()\n",
    "children_fiction"
   ]
  },
  {
   "cell_type": "code",
   "execution_count": 4,
   "metadata": {},
   "outputs": [
    {
     "data": {
      "text/plain": [
       "Text(0.5, 1.0, 'Comparison of cost for all audiences')"
      ]
     },
     "execution_count": 4,
     "metadata": {},
     "output_type": "execute_result"
    },
    {
     "data": {
      "image/png": "[encoded data removed]",
      "text/plain": [
       "<Figure size 432x288 with 1 Axes>"
      ]
     },
     "metadata": {
      "needs_background": "light"
     },
     "output_type": "display_data"
    }
   ],
   "source": [
    "# add code for visualization\n",
    "\n",
    "# Data masks\n",
    "adult_fiction_mask = (books_df['Audience'] == 'Adult') & (books_df['Genre'] == 'Fiction')\n",
    "ya_mask = (books_df['Audience'] == 'Teen') & (books_df['Genre'] == 'Fiction')\n",
    "children_mask = (books_df['Audience'] == 'Children') & (books_df['Genre'] == 'Fiction')\n",
    "\n",
    "# Totals by groups\n",
    "adult_fiction = books_df[adult_fiction_mask]['ItemPrice'].sum()\n",
    "ya_fiction =  books_df[ya_mask]['ItemPrice'].sum()\n",
    "children_fiction =  books_df[children_mask]['ItemPrice'].sum()\n",
    "\n",
    "# Plot a bar chart\n",
    "plotdata = pd.DataFrame(\n",
    "    {\"collections\": [adult_fiction, ya_fiction, children_fiction]}, \n",
    "    index=[\"Adult Fiction\", \"Young Adult Fiction\", \"Children Fiction\"])\n",
    "\n",
    "\n",
    "fig = plotdata.plot(kind=\"bar\")\n",
    "fmt = '${x:,.0f}'\n",
    "fig.yaxis.set_major_formatter('${x:,.0f}')\n",
    "fig.set_title('Comparison of cost for all audiences')\n"
   ]
  },
  {
   "attachments": {},
   "cell_type": "markdown",
   "metadata": {},
   "source": [
    "<h3>Unstacked bar plots</h3>\n",
    "<p>The next step for your bar charting journey is the need to compare series from a different set of samples. Typically this leads to an “unstacked” bar plot.</p>\n",
    "<p>Out of the box, Pandas plot provides what we need here, putting the index on the x-axis, and rendering each column as a separate series or set of bars, with a (usually) neatly positioned legend.</p>\n",
    "<p>Add an unstacked plot that compares all audiences and genres<p>"
   ]
  },
  {
   "cell_type": "code",
   "execution_count": 5,
   "metadata": {},
   "outputs": [
    {
     "data": {
      "text/plain": [
       "Text(0.5, 1.0, 'Genre Audience Comparison')"
      ]
     },
     "execution_count": 5,
     "metadata": {},
     "output_type": "execute_result"
    },
    {
     "data": {
      "image/png": "[encoded data removed]",
      "text/plain": [
       "<Figure size 432x288 with 1 Axes>"
      ]
     },
     "metadata": {
      "needs_background": "light"
     },
     "output_type": "display_data"
    }
   ],
   "source": [
    "# add code for visualization\n",
    "\n",
    "# Data masks\n",
    "adult_fiction_mask = (books_df['Audience'] == 'Adult') & (books_df['Genre'] == 'Fiction')\n",
    "ya_fiction_mask = (books_df['Audience'] == 'Teen') & (books_df['Genre'] == 'Fiction')\n",
    "children_fiction_mask = (books_df['Audience'] == 'Children') & (books_df['Genre'] == 'Fiction')\n",
    "\n",
    "adult_nonfiction_mask = (books_df['Audience'] == 'Adult') & (books_df['Genre'] == 'Non-Fiction')\n",
    "ya_nonfiction_mask = (books_df['Audience'] == 'Teen') & (books_df['Genre'] == 'Non-Fiction')\n",
    "children_nonfiction_mask = (books_df['Audience'] == 'Children') & (books_df['Genre'] == 'Non-Fiction')\n",
    "\n",
    "adult_other_mask = (books_df['Audience'] == 'Adult') & (books_df['Genre'] == 'Unknown')\n",
    "ya_other_mask = (books_df['Audience'] == 'Teen') & (books_df['Genre'] == 'Unknown')\n",
    "children_other_mask = (books_df['Audience'] == 'Children') & (books_df['Genre'] == 'Unknown')\n",
    "\n",
    "# Totals by groups\n",
    "adult_fiction = int( books_df[adult_fiction_mask]['ItemPrice'].sum())\n",
    "adult_nonfiction = int( books_df[adult_nonfiction_mask]['ItemPrice'].sum())\n",
    "adult_other = int( books_df[adult_other_mask]['ItemPrice'].sum())\n",
    "\n",
    "ya_fiction = int( books_df[ya_fiction_mask]['ItemPrice'].sum())\n",
    "ya_nonfiction = int( books_df[ya_nonfiction_mask]['ItemPrice'].sum())\n",
    "ya_other = int( books_df[ya_other_mask]['ItemPrice'].sum())\n",
    "\n",
    "children_fiction = int( books_df[children_fiction_mask]['ItemPrice'].sum())\n",
    "children_nonfiction = int( books_df[children_nonfiction_mask]['ItemPrice'].sum())\n",
    "children_other = int( books_df[children_other_mask]['ItemPrice'].sum())\n",
    "\n",
    "# Plot a bar chart\n",
    "plotdata = pd.DataFrame(\n",
    "    {\"Fiction\": [adult_fiction, ya_fiction, children_fiction],\n",
    "     \"Non-Fiction\": [adult_nonfiction, ya_nonfiction, children_nonfiction],\n",
    "     \"Unknown\": [adult_other, ya_other, children_other]}, \n",
    "    index=[\"Adult\", \"YA\", \"Children\"])\n",
    "\n",
    "\n",
    "fig = plotdata.plot(kind=\"bar\")\n",
    "fmt = '${x:,.0f}'\n",
    "fig.yaxis.set_label_text('Price')\n",
    "fig.yaxis.set_major_formatter('${x:,.0f}')\n",
    "fig.set_title('Genre Audience Comparison')"
   ]
  },
  {
   "attachments": {},
   "cell_type": "markdown",
   "metadata": {},
   "source": [
    "<h3>Plot Lines</h3>\n",
    "<p>Pandas provides you a quick and easy way to visualize the relationship between the features of a dataframe. The Pandas line plot represents information as a series of data points connected with a straight line. Very often, we use this to find out how a particular feature changes with respect to time and also with respect to one another.</p>\n",
    "<p>Add a plot line that looks at the change of YA over time<p>"
   ]
  },
  {
   "cell_type": "code",
   "execution_count": 23,
   "metadata": {},
   "outputs": [
    {
     "data": {
      "text/plain": [
       "Text(0.5, 1.0, 'YA Books over time')"
      ]
     },
     "execution_count": 23,
     "metadata": {},
     "output_type": "execute_result"
    },
    {
     "data": {
      "image/png": "[encoded data removed]",
      "text/plain": [
       "<Figure size 432x288 with 1 Axes>"
      ]
     },
     "metadata": {
      "needs_background": "light"
     },
     "output_type": "display_data"
    }
   ],
   "source": [
    "\n",
    "# add code for visualization\n",
    "# Add a new column to the dataframe called \"YA_Category\"\n",
    "# If the Audience == \"Teen\" and Genre == \"Fiction\" the value should be \"YA\"\n",
    "# Otherwise the value should be \"Other\"\n",
    "books_df['YA_Category'] = np.where(ya_mask, 'YA', 'Other')\n",
    "\n",
    "# calculate the counts for all YA books by publication year\n",
    "ya_years_count = books_df[['PublicationYear', 'ItemPrice']][books_df['YA_Category']=='YA'].groupby('PublicationYear').count()\n",
    "#print(ya_years_count)\n",
    "ya_years_count.columns = ['BookCount']\n",
    "#print(ya_years_count.columns)\n",
    "#print(ya_years_count)\n",
    "\n",
    "# concatenate the counts and costs into a single dataframe\n",
    "plotdf = pd.concat([ya_years_count], axis=1)\n",
    "\n",
    "#plotdf\n",
    "\n",
    "# Reset the index of the DataFrame after grouping by, and use the default one instead. If the DataFrame has a MultiIndex, this method can remove one or more levels.\n",
    "plotdf = plotdf.reset_index()\n",
    "#print(plotdf)\n",
    "\n",
    "count_by_years = plotdf[['PublicationYear','BookCount']]\n",
    "#print(count_by_years)\n",
    "\n",
    "# To use Publication year as x axis\n",
    "count_by_years.set_index(['PublicationYear'],inplace=True)\n",
    "\n",
    "#print(count_by_years)\n",
    "\n",
    "fig = count_by_years.plot(kind=\"line\")\n",
    "\n",
    "fig.yaxis.set_label_text('YA Books')\n",
    "fig.xaxis.set_label_text('Years')\n",
    "fig.set_title('YA Books over time')"
   ]
  },
  {
   "cell_type": "code",
   "execution_count": 24,
   "metadata": {},
   "outputs": [
    {
     "data": {
      "text/plain": [
       "Text(0.5, 1.0, 'YA Books Cost over time')"
      ]
     },
     "execution_count": 24,
     "metadata": {},
     "output_type": "execute_result"
    },
    {
     "data": {
      "image/png": "[encoded data removed]",
      "text/plain": [
       "<Figure size 432x288 with 1 Axes>"
      ]
     },
     "metadata": {
      "needs_background": "light"
     },
     "output_type": "display_data"
    }
   ],
   "source": [
    "# add code for visualization\n",
    "# Add a new column to the dataframe called \"YA_Category\"\n",
    "# If the Audience == \"Teen\" and Genre == \"Fiction\" the value should be \"YA\"\n",
    "# Otherwise the value should be \"Other\"\n",
    "books_df['YA_Category'] = np.where(ya_mask, 'YA', 'Other')\n",
    "\n",
    "# calculate total cost for all YA books by publication year\n",
    "\n",
    "ya_years_price = books_df[['PublicationYear', 'ItemPrice']][books_df['YA_Category']=='YA'].groupby('PublicationYear').sum()\n",
    "ya_years_price.columns = ['TotalCost']\n",
    "\n",
    "# concatenate the counts and costs into a single dataframe\n",
    "plotdf = pd.concat([ya_years_price], axis=1)\n",
    "\n",
    "# Reset the index of the DataFrame after grouping by, and use the default one instead. If the DataFrame has a MultiIndex, this method can remove one or more levels.\n",
    "plotdf = plotdf.reset_index()\n",
    "\n",
    "price_by_years = plotdf[['PublicationYear','TotalCost']]\n",
    "# To use Publication year as x axis\n",
    "price_by_years.set_index(['PublicationYear'],inplace=True)\n",
    "\n",
    "\n",
    "fig = price_by_years.plot(kind=\"line\")\n",
    "fmt = '${x:,.0f}'\n",
    "fig.yaxis.set_major_formatter('${x:,.0f}')\n",
    "fig.yaxis.set_label_text('YA Books Total Cost')\n",
    "\n",
    "fig.xaxis.set_label_text('Years')\n",
    "fig.set_title('YA Books Cost over time')"
   ]
  },
  {
   "cell_type": "markdown",
   "metadata": {},
   "source": [
    "<h3>Horizontal bar plotting</h3>"
   ]
  },
  {
   "cell_type": "code",
   "execution_count": 29,
   "metadata": {},
   "outputs": [
    {
     "name": "stdout",
     "output_type": "stream",
     "text": [
      "Southwest                    5413\n",
      "South Central                5238\n",
      "Northeast                    4928\n",
      "Main Teen                    3848\n",
      "Remote Shelving - Shawnee    2988\n",
      "St Matthews                  2636\n",
      "Bon Air                      2072\n",
      "Iroquois                     1910\n",
      "Shawnee                      1830\n",
      "Highlands - Shelby Park      1457\n",
      "Jeffersontown                1425\n",
      "Middletown                   1333\n",
      "Crescent Hill                1252\n",
      "Shively                      1206\n",
      "Newburg                      1011\n",
      "Western                      1009\n",
      "Fairdale                      983\n",
      "Portland                      491\n",
      "Childrens Bookmobile          187\n",
      "Remote Shelving - Main         26\n",
      "Main                           12\n",
      "Childrens Main Library          1\n",
      "Content Management              1\n",
      "Name: ItemLocation, dtype: int64\n"
     ]
    }
   ],
   "source": [
    "# Get the number of YA books by location\n",
    "location_ya = books_df['ItemLocation'][books_df['YA_Category'] == 'YA']\\\n",
    "                    .value_counts()\n",
    "\n",
    "print(location_ya)                 \n",
    "#location_ya.rename(\"YABookCount\", inplace=True)\n"
   ]
  },
  {
   "cell_type": "code",
   "execution_count": 30,
   "metadata": {},
   "outputs": [
    {
     "data": {
      "text/html": [
       "<div>\n",
       "<style scoped>\n",
       "    .dataframe tbody tr th:only-of-type {\n",
       "        vertical-align: middle;\n",
       "    }\n",
       "\n",
       "    .dataframe tbody tr th {\n",
       "        vertical-align: top;\n",
       "    }\n",
       "\n",
       "    .dataframe thead th {\n",
       "        text-align: right;\n",
       "    }\n",
       "</style>\n",
       "<table border=\"1\" class=\"dataframe\">\n",
       "  <thead>\n",
       "    <tr style=\"text-align: right;\">\n",
       "      <th></th>\n",
       "      <th>TotalBookCount</th>\n",
       "      <th>YABookCount</th>\n",
       "      <th>PercentYA</th>\n",
       "    </tr>\n",
       "  </thead>\n",
       "  <tbody>\n",
       "    <tr>\n",
       "      <th>Main Teen</th>\n",
       "      <td>6,018</td>\n",
       "      <td>3,848</td>\n",
       "      <td>63.9</td>\n",
       "    </tr>\n",
       "    <tr>\n",
       "      <th>Remote Shelving - Shawnee</th>\n",
       "      <td>9,060</td>\n",
       "      <td>2,988</td>\n",
       "      <td>33.0</td>\n",
       "    </tr>\n",
       "    <tr>\n",
       "      <th>Content Management</th>\n",
       "      <td>4</td>\n",
       "      <td>1</td>\n",
       "      <td>25.0</td>\n",
       "    </tr>\n",
       "    <tr>\n",
       "      <th>Shawnee</th>\n",
       "      <td>22,861</td>\n",
       "      <td>1,830</td>\n",
       "      <td>8.0</td>\n",
       "    </tr>\n",
       "    <tr>\n",
       "      <th>Shively</th>\n",
       "      <td>23,549</td>\n",
       "      <td>1,206</td>\n",
       "      <td>5.1</td>\n",
       "    </tr>\n",
       "    <tr>\n",
       "      <th>Western</th>\n",
       "      <td>21,615</td>\n",
       "      <td>1,009</td>\n",
       "      <td>4.7</td>\n",
       "    </tr>\n",
       "    <tr>\n",
       "      <th>South Central</th>\n",
       "      <td>115,614</td>\n",
       "      <td>5,238</td>\n",
       "      <td>4.5</td>\n",
       "    </tr>\n",
       "    <tr>\n",
       "      <th>Southwest</th>\n",
       "      <td>121,914</td>\n",
       "      <td>5,413</td>\n",
       "      <td>4.4</td>\n",
       "    </tr>\n",
       "    <tr>\n",
       "      <th>Newburg</th>\n",
       "      <td>23,536</td>\n",
       "      <td>1,011</td>\n",
       "      <td>4.3</td>\n",
       "    </tr>\n",
       "    <tr>\n",
       "      <th>Fairdale</th>\n",
       "      <td>23,025</td>\n",
       "      <td>983</td>\n",
       "      <td>4.3</td>\n",
       "    </tr>\n",
       "    <tr>\n",
       "      <th>Northeast</th>\n",
       "      <td>124,339</td>\n",
       "      <td>4,928</td>\n",
       "      <td>4.0</td>\n",
       "    </tr>\n",
       "    <tr>\n",
       "      <th>Middletown</th>\n",
       "      <td>33,069</td>\n",
       "      <td>1,333</td>\n",
       "      <td>4.0</td>\n",
       "    </tr>\n",
       "    <tr>\n",
       "      <th>St Matthews</th>\n",
       "      <td>69,417</td>\n",
       "      <td>2,636</td>\n",
       "      <td>3.8</td>\n",
       "    </tr>\n",
       "    <tr>\n",
       "      <th>Portland</th>\n",
       "      <td>13,313</td>\n",
       "      <td>491</td>\n",
       "      <td>3.7</td>\n",
       "    </tr>\n",
       "    <tr>\n",
       "      <th>Iroquois</th>\n",
       "      <td>52,190</td>\n",
       "      <td>1,910</td>\n",
       "      <td>3.7</td>\n",
       "    </tr>\n",
       "    <tr>\n",
       "      <th>Highlands - Shelby Park</th>\n",
       "      <td>45,352</td>\n",
       "      <td>1,457</td>\n",
       "      <td>3.2</td>\n",
       "    </tr>\n",
       "    <tr>\n",
       "      <th>Crescent Hill</th>\n",
       "      <td>42,683</td>\n",
       "      <td>1,252</td>\n",
       "      <td>2.9</td>\n",
       "    </tr>\n",
       "    <tr>\n",
       "      <th>Bon Air</th>\n",
       "      <td>74,551</td>\n",
       "      <td>2,072</td>\n",
       "      <td>2.8</td>\n",
       "    </tr>\n",
       "    <tr>\n",
       "      <th>Jeffersontown</th>\n",
       "      <td>56,620</td>\n",
       "      <td>1,425</td>\n",
       "      <td>2.5</td>\n",
       "    </tr>\n",
       "    <tr>\n",
       "      <th>Childrens Bookmobile</th>\n",
       "      <td>9,092</td>\n",
       "      <td>187</td>\n",
       "      <td>2.1</td>\n",
       "    </tr>\n",
       "    <tr>\n",
       "      <th>Remote Shelving - Main</th>\n",
       "      <td>139,969</td>\n",
       "      <td>26</td>\n",
       "      <td>0.0</td>\n",
       "    </tr>\n",
       "    <tr>\n",
       "      <th>Main</th>\n",
       "      <td>120,742</td>\n",
       "      <td>12</td>\n",
       "      <td>0.0</td>\n",
       "    </tr>\n",
       "    <tr>\n",
       "      <th>Childrens Main Library</th>\n",
       "      <td>38,668</td>\n",
       "      <td>1</td>\n",
       "      <td>0.0</td>\n",
       "    </tr>\n",
       "    <tr>\n",
       "      <th>Adult Bookmobile</th>\n",
       "      <td>2</td>\n",
       "      <td>nan</td>\n",
       "      <td>NaN</td>\n",
       "    </tr>\n",
       "  </tbody>\n",
       "</table>\n",
       "</div>"
      ],
      "text/plain": [
       "                          TotalBookCount YABookCount  PercentYA\n",
       "Main Teen                          6,018       3,848       63.9\n",
       "Remote Shelving - Shawnee          9,060       2,988       33.0\n",
       "Content Management                     4           1       25.0\n",
       "Shawnee                           22,861       1,830        8.0\n",
       "Shively                           23,549       1,206        5.1\n",
       "Western                           21,615       1,009        4.7\n",
       "South Central                    115,614       5,238        4.5\n",
       "Southwest                        121,914       5,413        4.4\n",
       "Newburg                           23,536       1,011        4.3\n",
       "Fairdale                          23,025         983        4.3\n",
       "Northeast                        124,339       4,928        4.0\n",
       "Middletown                        33,069       1,333        4.0\n",
       "St Matthews                       69,417       2,636        3.8\n",
       "Portland                          13,313         491        3.7\n",
       "Iroquois                          52,190       1,910        3.7\n",
       "Highlands - Shelby Park           45,352       1,457        3.2\n",
       "Crescent Hill                     42,683       1,252        2.9\n",
       "Bon Air                           74,551       2,072        2.8\n",
       "Jeffersontown                     56,620       1,425        2.5\n",
       "Childrens Bookmobile               9,092         187        2.1\n",
       "Remote Shelving - Main           139,969          26        0.0\n",
       "Main                             120,742          12        0.0\n",
       "Childrens Main Library            38,668           1        0.0\n",
       "Adult Bookmobile                       2         nan        NaN"
      ]
     },
     "execution_count": 30,
     "metadata": {},
     "output_type": "execute_result"
    }
   ],
   "source": [
    "# add code for visualization \n",
    "\n",
    "# Get the number of YA books by location\n",
    "location_ya = books_df['ItemLocation'][books_df['YA_Category'] == 'YA']\\\n",
    "                    .value_counts()\n",
    "location_ya.rename(\"YABookCount\", inplace=True)\n",
    "\n",
    "# Get the total number of books by location\n",
    "location_all = books_df['ItemLocation'].value_counts()\n",
    "location_all.rename(\"TotalBookCount\", inplace=True)\n",
    "\n",
    "location_summary = pd.concat([location_all, location_ya], axis=1)\n",
    "\n",
    "# calculate the percentage of YA books based on the YA count and the total count\n",
    "location_summary['PercentYA'] = (location_summary['YABookCount'] / \n",
    "                                location_summary['TotalBookCount'])\n",
    "\n",
    "# format the columns and display the dataframe values\n",
    "\n",
    "location_summary['TotalBookCount'] = location_summary['TotalBookCount']\\\n",
    "                                    .apply(lambda x: \"{:,}\".format(x, axis=1))\n",
    "location_summary['YABookCount'] = location_summary['YABookCount']\\\n",
    "                                    .apply(lambda x: \"{:,.0f}\".format(x, axis=1))\n",
    "location_summary['PercentYA'] = location_summary['PercentYA'].mul(100).round(1)\n",
    "location_summary.sort_values(by=['PercentYA'], ascending=False)"
   ]
  },
  {
   "cell_type": "code",
   "execution_count": 36,
   "metadata": {},
   "outputs": [
    {
     "data": {
      "text/plain": [
       "Text(0.5, 1.0, 'YA by locations')"
      ]
     },
     "execution_count": 36,
     "metadata": {},
     "output_type": "execute_result"
    },
    {
     "data": {
      "image/png": "[encoded data removed]",
      "text/plain": [
       "<Figure size 432x288 with 1 Axes>"
      ]
     },
     "metadata": {
      "needs_background": "light"
     },
     "output_type": "display_data"
    }
   ],
   "source": [
    "# add code for visualization \n",
    "\n",
    "# Get the number of YA books by location\n",
    "location_ya = books_df['ItemLocation'][books_df['YA_Category'] == 'YA']\\\n",
    "                    .value_counts()\n",
    "location_ya.rename(\"YABookCount\", inplace=True)\n",
    "\n",
    "# Get the total number of books by location\n",
    "location_all = books_df['ItemLocation'].value_counts()\n",
    "location_all.rename(\"TotalBookCount\", inplace=True)\n",
    "\n",
    "location_summary = pd.concat([location_all, location_ya], axis=1)\n",
    "\n",
    "# calculate the percentage of YA books based on the YA count and the total count\n",
    "location_summary['PercentYA'] = (location_summary['YABookCount'] / \n",
    "                                location_summary['TotalBookCount'])\n",
    "\n",
    "# format the columns and display the dataframe values\n",
    "\n",
    "location_summary['TotalBookCount'] = location_summary['TotalBookCount']\\\n",
    "                                    .apply(lambda x: \"{:,}\".format(x, axis=1))\n",
    "location_summary['YABookCount'] = location_summary['YABookCount']\\\n",
    "                                    .apply(lambda x: \"{:,.0f}\".format(x, axis=1))\n",
    "location_summary['PercentYA'] = location_summary['PercentYA'].mul(100).round(1)\n",
    "location_summary.sort_values(by=['PercentYA'], ascending=False)\n",
    "\n",
    "\n",
    "fig = location_summary.plot(kind=\"barh\", fontsize=12)\n",
    "fmt = '{x:,.0f}%'\n",
    "fig.xaxis.set_major_formatter(fmt)\n",
    "fig.set_title('YA by locations')\n"
   ]
  }
 ],
 "metadata": {
  "kernelspec": {
   "display_name": "base",
   "language": "python",
   "name": "python3"
  },
  "language_info": {
   "codemirror_mode": {
    "name": "ipython",
    "version": 3
   },
   "file_extension": ".py",
   "mimetype": "text/x-python",
   "name": "python",
   "nbconvert_exporter": "python",
   "pygments_lexer": "ipython3",
   "version": "3.9.7"
  },
  "orig_nbformat": 4,
  "vscode": {
   "interpreter": {
    "hash": "ad2bdc8ecc057115af97d19610ffacc2b4e99fae6737bb82f5d7fb13d2f2c186"
   }
  }
 },
 "nbformat": 4,
 "nbformat_minor": 2
}
